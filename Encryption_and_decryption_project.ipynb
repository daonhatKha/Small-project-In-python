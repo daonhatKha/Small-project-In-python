{
 "cells": [
  {
   "cell_type": "markdown",
   "id": "fc1b63ae",
   "metadata": {},
   "source": [
    "# Create the TranspositionCipher class"
   ]
  },
  {
   "cell_type": "code",
   "execution_count": 84,
   "id": "24484932",
   "metadata": {},
   "outputs": [],
   "source": [
    "class TranspositionCipher(object): \n",
    "        \n",
    "    def __init__(self, key):\n",
    "        self.key = key\n",
    "        \n",
    "    def encrypt_message(self, message):\n",
    "        message_encrypted = \"\"\n",
    "        ceil = round(len(message)/self.key) #Number of Rows\n",
    "        for j in range(0,self.key):\n",
    "            for i in range(ceil):\n",
    "                index = j + i * self.key \n",
    "                # j lable the row (0,1,2,3,4,5) and i lable the column (0,1,2,3), Key = 6.\n",
    "                if index < len(message):\n",
    "                    message_encrypted += message[index]\n",
    "        print(message_encrypted)\n",
    "    \n",
    "    def decrypt_message(self, message):\n",
    "        # Store each character in a list \n",
    "        message_split = list(message)\n",
    "\n",
    "        # Compute the total length of the message\n",
    "        message_length = len(message_split)\n",
    "\n",
    "        #Calculate the number of columns required\n",
    "        message_ceil = round(message_length/self.key)\n",
    "\n",
    "        #Calculate the number of empty cells in the grid\n",
    "        num_empty_cells = (message_ceil * self.key) - message_length\n",
    "\n",
    "        #Create an iterator\n",
    "        iterator = iter(message_split)\n",
    "\n",
    "        # Initialize a 2D grid with empty strings, \n",
    "        # which will be filled with the message \n",
    "        # characters for decryption\n",
    "        message_grid = []\n",
    "        for i in range(self.key):\n",
    "            row = [None] * message_ceil\n",
    "            message_grid.append(row)\n",
    "\n",
    "        #Construct nested for-loops for filling in the grid\n",
    "        for i in range(self.key):\n",
    "            for j in range(message_ceil):\n",
    "                if i in range(0, self.key - num_empty_cells):\n",
    "                    try: \n",
    "                        message_grid[i][j] = next(iterator)\n",
    "                    except StopIteration:\n",
    "                        pass\n",
    "\n",
    "                elif i in range(self.key - num_empty_cells, self.key):\n",
    "                        if j == (message_ceil - 1):\n",
    "                            message_grid[i][j] = None\n",
    "                        else:\n",
    "                            try:\n",
    "                                message_grid[i][j] = next(iterator)\n",
    "                            except StopIteration:\n",
    "                                pass \n",
    "        # print(message_grid)\n",
    "\n",
    "        # Initialize an empty string for the decrypted message\n",
    "        message_decrypted = '' \n",
    "\n",
    "        # Construct nested for-loops for decrypting the message \n",
    "        for j in range(message_ceil):\n",
    "            for i in range(self.key):\n",
    "                if message_grid[i][j] != None:\n",
    "                    message_decrypted += message_grid[i][j]\n",
    "        print(message_decrypted)"
   ]
  },
  {
   "cell_type": "code",
   "execution_count": null,
   "id": "cd48698e",
   "metadata": {},
   "outputs": [
    {
     "name": "stdout",
     "output_type": "stream",
     "text": [
      "problems \n",
      "\n",
      "problems worthy \n",
      "of attack \n",
      "prove their worth \n",
      "by hitting back.\n",
      "None\n"
     ]
    }
   ],
   "source": [
    "message_1 = TranspositionCipher(5).decrypt_message(\"pe\\nlwy crt h iarmpeo akohw hncosrmr\\nt veo\\nigkb ostot\\neirbt .l\\nb hfap rtytb\")\n",
    "print(message_1)"
   ]
  },
  {
   "cell_type": "code",
   "execution_count": 87,
   "id": "02750f0d",
   "metadata": {},
   "outputs": [
    {
     "name": "stdout",
     "output_type": "stream",
     "text": [
      "i' usclfaeitcxildcoiee hshtesudo tu oehi ut noiu\n",
      "tyusyf odeig o'oawy ln rcoosspcairgrsieplioiuatssprairglsiepaioiu\n",
      "vntog h on fi ssmtigqiearcosi o a tlu nuhyul lassudpeoiu\n",
      "ueclfaiitcxildco\n",
      "None\n",
      "ihheysclfieuidms'uluir ieloecnht iptddutgf 'y pi laiuootptplyd\n",
      "ego efspcgtcauraoc olno uoaoufs raiceilsucuaaio ai\n",
      "t ex gaw onns eulsistasgviuxor isoe  odhitssosiuqiyts cirheuoos iilnr\n",
      "ic\n",
      "None\n",
      "iqiespicci euoiooeuolllstaooehiux chlisoirddodual unoaia lhyx rotfronlydmshla 'irss\n",
      "gloetogat ihenndus isoeyr\n",
      "igataeysrsopiee io\n",
      "t'ittuf  iuaicics suctpuuio eguiv fspic wcauni  c ptlss ugf\n",
      "None\n",
      "i u\n",
      "rsioc ofet cis cihnrlqwct llec   \n",
      "sahosfiyordlicteel hice'ia lo s i\n",
      "odseacsgyui  pen lieugisgtotspigadnueusrn'hsupu olfdagutatmoxpiusdiyoun ieoruotutt saofiaourx icsoyeoioiiuaihallvips\n",
      "None\n",
      "isefta'olcitmu  eaivoisucirl oodspile u oegsahsiuyupe\n",
      "dquyrauig coasxpin o progssolw\n",
      "eupugyh fiauur lscsxoi gdicroontaui eh tunlofisif otscttaiuadic hiois'i i  lciloet\n",
      "noittn eylcladhesesr\n",
      "None\n",
      "it's supercalifragilisticexpialidocious\n",
      "even though the sound of it is something quite atrocious\n",
      "if you say it loud enough you'll always sound precocious\n",
      "supercalifragilisticexpialidocious\n",
      "None\n"
     ]
    }
   ],
   "source": [
    "message_2 = \"icilehd  oy ganoasitasiv  sqcolhldultd'ltdetoouiuo w siiosiionhfmio uyap\\nfcc fcc e etusdoyrsreisreit itesa useuaxouaxohsth \\nye' cpgpupgpuoo iai nlsoeiiseiisuuintfiolocrlarla\\ngnsgr tu uicil\" \n",
    "for i in range(5,11):\n",
    "    print(TranspositionCipher(i).decrypt_message(message_2))"
   ]
  },
  {
   "cell_type": "markdown",
   "id": "5160c60e",
   "metadata": {},
   "source": [
    "![alt text]({4BF69992-2EDA-47C1-9AA3-49462E464CF3}.png)"
   ]
  },
  {
   "cell_type": "code",
   "execution_count": 99,
   "id": "08b6159f",
   "metadata": {},
   "outputs": [
    {
     "name": "stdout",
     "output_type": "stream",
     "text": [
      "Ishrhpt e lhoice  fy\n",
      "t doeoiee etdg so een seduahmralerchdhh  b h larnxnhsh,lwhmw etc ssdsree   ’e  eidmyweumnw cti e iho hwneoae dso. tids\n",
      "st meo h seeahi sh dtittealrnt aeeu whno whhwsevtit.sdrita ahrtc hnsyef w rdgTar cvhoaaepehco   dsenedayehfe  \n",
      "setos \n",
      "hhsittoiwtslldahlHlf\n",
      " mdy r\n",
      "r rmhkit\n"
     ]
    }
   ],
   "source": [
    "message_3 = \"\"\"I confess at these words a shudder passed\n",
    "through me. There was a thrill in the doctor’s voice\n",
    "which showed that he was himself deeply moved\n",
    "by that which he told us. Holmes leaned forward\n",
    "in his excitement and his eyes had the hard, dry\n",
    "glitter which shot from them when he was keenly\n",
    "interested.\"\"\"\n",
    "\n",
    "TranspositionCipher(7).encrypt_message(message_3)"
   ]
  },
  {
   "cell_type": "code",
   "execution_count": 104,
   "id": "88cb3e26",
   "metadata": {},
   "outputs": [
    {
     "name": "stdout",
     "output_type": "stream",
     "text": [
      "physicists are made of atoms. a physicist is an attempt by an atom to understand itself.\n"
     ]
    }
   ],
   "source": [
    "message_4 = 'ptatptabod hsdoh tymeiy emyit  rtsa ssseatssiro.i mnotecef cap  ali  aintaunfsma s  tnd.'\n",
    "TranspositionCipher(8).decrypt_message(message_4)"
   ]
  },
  {
   "cell_type": "code",
   "execution_count": 112,
   "id": "16bdb04d",
   "metadata": {},
   "outputs": [
    {
     "name": "stdout",
     "output_type": "stream",
     "text": [
      "nothing is easier for people who never do anything themselves than to criticize someone who actually makes an effort.\n"
     ]
    }
   ],
   "source": [
    "message_5 = 'naoensioanosprg tnl til  tieleheedthc yfir ohaiw fn w enzhmogfham eoar oonst  ktir yeosae.s ntl ocs pehvcmt eeviereua'\n",
    "TranspositionCipher(12).decrypt_message(message_5)"
   ]
  },
  {
   "cell_type": "code",
   "execution_count": null,
   "id": "7c04fd24",
   "metadata": {},
   "outputs": [
    {
     "name": "stdout",
     "output_type": "stream",
     "text": [
      "[['L', 'n', 'h', ' '], ['e', 'g', 'o', 'f'], ['a', ' ', 'n', 'u'], ['r', 'P', ' ', 'n'], ['n', 'y', 'i', None], ['i', 't', 's', None]]\n",
      "Learning Python is fun\n"
     ]
    }
   ],
   "source": [
    "message = \"problems\\nproblems worthy\\nof attack\\nprove their worth\\nby hitting back.\\n\"\n",
    "iterator = iter(message)\n",
    "message_grid = []\n",
    "for i in range(5):\n",
    "    row = [None] * 14\n",
    "    message_grid.append(row)\n",
    "\n",
    "for i in range(5):\n",
    "    for j in range(14):\n",
    "        if i in range(0,14-2):\n",
    "            try: #Try use to block the code line if it is not possible to execute\n",
    "                message_grid[i][j] = next(iterator)\n",
    "\n",
    "            except StopIteration: #except block is executed when an error occurs, in case of StopIteration it breaks the loop if the iterator is exhausted.\n",
    "                #That why if i not use try & except StopIteration, the code will error and not run. \n",
    "                pass  # In case the message runs out of character\n",
    "        else:\n",
    "                if j != 3 and i in range(6-2,6):\n",
    "                    try:\n",
    "                        message_grid[i][j] = next(iterator)\n",
    "                    except StopIteration:\n",
    "                        pass\n",
    "                else:\n",
    "                    message_grid[i][j] = None\n",
    "print(message_grid)\n",
    "message_decrypted = ''\n",
    "for j in range(4):\n",
    "    for i in range(6):\n",
    "        if message_grid[i][j] != None:\n",
    "            message_decrypted += message_grid[i][j]\n",
    "print(message_decrypted)"
   ]
  },
  {
   "cell_type": "markdown",
   "id": "addc9042",
   "metadata": {},
   "source": [
    "# Solution"
   ]
  },
  {
   "cell_type": "code",
   "execution_count": 114,
   "id": "d34e3c2a",
   "metadata": {},
   "outputs": [],
   "source": [
    "def __init__(self, key):\n",
    "    self.key = key\n",
    "\n",
    "#Split the message into a list of characters: \n",
    "def encrypt_message(self, message):\n",
    "\n",
    "    message_split = list(message.lower())\n",
    "\n",
    "    # Calculate the message’s length:\n",
    "    message_length = len(message_split)\n",
    "\n",
    "    # Initialize an empty string for the encrypted message:\n",
    "    message_encrypted = ''\n",
    "    message_ceil = round(message_length/self.key)\n",
    "    for j in range(self.key):\n",
    "        for i in range(message_ceil):\n",
    "            index = j + i * self.key\n",
    "            if index < message_length:\n",
    "                message_encrypted += message_split[index]\n",
    "    print(message_encrypted)\n",
    "\n",
    "def decrypt_message(self, message):\n",
    "    message_split = list(message.lower())\n",
    "    message_length = len(message_split)\n",
    "    message_ceil = round(message_length/self.key)\n",
    "    num_empty_cells = self.key*message_ceil - message_length\n",
    "\n",
    "    #Cái này hay nè nó sử dụng list of comprehension để tạo ra một 2D grid với các giá trị rỗng\n",
    "    message_grid = [['' for _ in range(message_ceil)] for _ in range(self.key)]\n",
    "\n",
    "    message_decrypted = ''\n",
    "    iterator = iter(message_split)\n",
    "    for i in range(self.key):\n",
    "        #Nếu i < (6-2) = 4 thì tổng số cột mà iterator điền vào sẽ bằng với tổng số cột được tạo. \n",
    "        if i < self.key - num_empty_cells:\n",
    "            columns = message_ceil\n",
    "\n",
    "        #Nếu >4 hoặc (6-2) thì số cột mà iterator điền sẽ là tổng số cột ban đầu trừ đi 1.\n",
    "        else:\n",
    "            columns = message_ceil - 1\n",
    "\n",
    "        for j in range(columns):\n",
    "            message_grid[i][j] = next(iterator, None)"
   ]
  },
  {
   "cell_type": "markdown",
   "id": "2c4e8503",
   "metadata": {},
   "source": [
    "# Hack the transposition cipher (optional)"
   ]
  },
  {
   "cell_type": "code",
   "execution_count": 52,
   "id": "54134ab4",
   "metadata": {},
   "outputs": [],
   "source": [
    "def hack_cipher(message_enc):\n",
    "    pass"
   ]
  }
 ],
 "metadata": {
  "kernelspec": {
   "display_name": "python_course",
   "language": "python",
   "name": "python3"
  },
  "language_info": {
   "codemirror_mode": {
    "name": "ipython",
    "version": 3
   },
   "file_extension": ".py",
   "mimetype": "text/x-python",
   "name": "python",
   "nbconvert_exporter": "python",
   "pygments_lexer": "ipython3",
   "version": "3.11.10"
  }
 },
 "nbformat": 4,
 "nbformat_minor": 5
}
